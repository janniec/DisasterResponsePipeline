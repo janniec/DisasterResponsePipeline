{
 "cells": [
  {
   "cell_type": "markdown",
   "metadata": {},
   "source": [
    "# ML Pipeline Preparation\n",
    "Follow the instructions below to help you create your ML pipeline.\n",
    "### 1. Import libraries and load data from database.\n",
    "- Import Python libraries\n",
    "- Load dataset from database with [`read_sql_table`](https://pandas.pydata.org/pandas-docs/stable/generated/pandas.read_sql_table.html)\n",
    "- Define feature and target variables X and Y"
   ]
  },
  {
   "cell_type": "code",
   "execution_count": 25,
   "metadata": {},
   "outputs": [
    {
     "name": "stderr",
     "output_type": "stream",
     "text": [
      "[nltk_data] Downloading package punkt to /home/jyychang/nltk_data...\n",
      "[nltk_data]   Package punkt is already up-to-date!\n",
      "[nltk_data] Downloading package stopwords to\n",
      "[nltk_data]     /home/jyychang/nltk_data...\n",
      "[nltk_data]   Package stopwords is already up-to-date!\n",
      "[nltk_data] Downloading package wordnet to /home/jyychang/nltk_data...\n",
      "[nltk_data]   Package wordnet is already up-to-date!\n"
     ]
    },
    {
     "data": {
      "text/plain": [
       "True"
      ]
     },
     "execution_count": 25,
     "metadata": {},
     "output_type": "execute_result"
    }
   ],
   "source": [
    "# import libraries\n",
    "from sqlalchemy import create_engine\n",
    "import pandas as pd\n",
    "import re\n",
    "import nltk\n",
    "from nltk.tokenize import word_tokenize\n",
    "from nltk.stem import WordNetLemmatizer\n",
    "from nltk.corpus import stopwords\n",
    "from sklearn.pipeline import Pipeline\n",
    "from sklearn.feature_extraction.text import CountVectorizer, TfidfTransformer\n",
    "from sklearn.feature_extraction.text import TfidfVectorizer\n",
    "from sklearn.model_selection import train_test_split, GridSearchCV\n",
    "from sklearn.multioutput import MultiOutputClassifier\n",
    "from sklearn.ensemble import RandomForestClassifier, AdaBoostClassifier\n",
    "from sklearn.naive_bayes import MultinomialNB\n",
    "from sklearn.metrics import precision_recall_fscore_support\n",
    "import pickle\n",
    "\n",
    "nltk.download(['punkt','stopwords','wordnet'])"
   ]
  },
  {
   "cell_type": "code",
   "execution_count": 26,
   "metadata": {},
   "outputs": [],
   "source": [
    "# load data from database\n",
    "engine = create_engine('sqlite:///data/DisasterResponse.db')\n",
    "df = pd.read_sql_table('Disasters', engine)\n",
    "X = df['message']\n",
    "y = df.iloc[:,4:] # not including 'id', 'message', 'original', 'genre'"
   ]
  },
  {
   "cell_type": "code",
   "execution_count": 32,
   "metadata": {},
   "outputs": [
    {
     "data": {
      "text/plain": [
       "'Please, we are staying in a church. There are no wounded but we are in dire need of food, water, gas. Our house is completely leveled'"
      ]
     },
     "execution_count": 32,
     "metadata": {},
     "output_type": "execute_result"
    }
   ],
   "source": [
    "X [500]"
   ]
  },
  {
   "cell_type": "markdown",
   "metadata": {},
   "source": [
    "### 2. Write a tokenization function to process your text data"
   ]
  },
  {
   "cell_type": "code",
   "execution_count": 9,
   "metadata": {},
   "outputs": [],
   "source": [
    "def tokenize(text):\n",
    "    '''\n",
    "    text [string] = sentence text\n",
    "    Function to lowercase, tokenize, remove punctuations and stopwords, and lemmatize any string.\n",
    "    lemmas [list of strings] = list of lemmas\n",
    "    '''\n",
    "    #normalize text\n",
    "    text = re.sub(r'[^a-zA-Z0-9]',' ',text.lower())\n",
    "    #tokenize messages\n",
    "    words = word_tokenize(text)\n",
    "    # remove stopwords\n",
    "    tokens = [w for w in words if w not in stopwords.words(\"english\")]\n",
    "    # Lemmatization\n",
    "    lemmas = [WordNetLemmatizer().lemmatize(t) for t in tokens]\n",
    "    return lemmas"
   ]
  },
  {
   "cell_type": "markdown",
   "metadata": {},
   "source": [
    "### 3. Build a machine learning pipeline\n",
    "This machine pipeline should take in the `message` column as input and output classification results on the other 36 categories in the dataset. You may find the [MultiOutputClassifier](http://scikit-learn.org/stable/modules/generated/sklearn.multioutput.MultiOutputClassifier.html) helpful for predicting multiple target variables."
   ]
  },
  {
   "cell_type": "code",
   "execution_count": 10,
   "metadata": {},
   "outputs": [],
   "source": [
    "# Random Forest Classifier Pipeline\n",
    "pipeline_rfc = Pipeline([\n",
    "    ('vect', CountVectorizer(tokenizer=tokenize)),\n",
    "    ('tfidf', TfidfTransformer()),\n",
    "    ('clf', MultiOutputClassifier(RandomForestClassifier()))\n",
    "    ])"
   ]
  },
  {
   "cell_type": "markdown",
   "metadata": {},
   "source": [
    "### 4. Train pipeline\n",
    "- Split data into train and test sets\n",
    "- Train pipeline"
   ]
  },
  {
   "cell_type": "code",
   "execution_count": 11,
   "metadata": {},
   "outputs": [],
   "source": [
    "X_train, X_test, y_train, y_test = train_test_split(X, y, test_size=0.25, random_state=43)"
   ]
  },
  {
   "cell_type": "code",
   "execution_count": 12,
   "metadata": {},
   "outputs": [
    {
     "data": {
      "text/plain": [
       "Pipeline(steps=[('vect',\n",
       "                 CountVectorizer(tokenizer=<function tokenize at 0x7ff7777ea290>)),\n",
       "                ('tfidf', TfidfTransformer()),\n",
       "                ('clf',\n",
       "                 MultiOutputClassifier(estimator=RandomForestClassifier()))])"
      ]
     },
     "execution_count": 12,
     "metadata": {},
     "output_type": "execute_result"
    }
   ],
   "source": [
    "# Fit the Random Forest Classifier \n",
    "pipeline_rfc.fit(X_train, y_train)"
   ]
  },
  {
   "cell_type": "markdown",
   "metadata": {},
   "source": [
    "### 5. Test your model\n",
    "Report the f1 score, precision and recall for each output category of the dataset. You can do this by iterating through the columns and calling sklearn's `classification_report` on each."
   ]
  },
  {
   "cell_type": "code",
   "execution_count": 16,
   "metadata": {},
   "outputs": [],
   "source": [
    "def score_report(y_true, y_pred):\n",
    "    '''\n",
    "    y_true [dataframe] = dataframe with target labels as column headers and integer values \n",
    "    y_pred [array] = array of arrays of integers the same shape as y_true\n",
    "    Function to compare predicted values to true values and calculate precision, recall, and f-score for each label.\n",
    "    Function will also print the average precision, recall, and f-score across all labels.\n",
    "    score_df = dataframe of labels, precision, recall, and f-score\n",
    "    '''\n",
    "    score_df = pd.DataFrame(columns=['Label', 'Precision', 'Recall', 'Fscore'])\n",
    "    for i, col in enumerate(y_true.columns):\n",
    "        precision, recall, f_score, support = precision_recall_fscore_support(y_true[col], y_pred[:, i], average='weighted')\n",
    "        score_df.loc[i, 'Label'] = col\n",
    "        score_df.loc[i, 'Precision'] = precision\n",
    "        score_df.loc[i, 'Recall'] = recall\n",
    "        score_df.loc[i, 'Fscore'] = f_score\n",
    "    print('Average F Score: ', score_df['Fscore'].mean())\n",
    "    print('Average Precision: ', score_df['Precision'].mean())\n",
    "    print('Average Recall: ', score_df['Recall'].mean())\n",
    "    return score_df"
   ]
  },
  {
   "cell_type": "code",
   "execution_count": 41,
   "metadata": {},
   "outputs": [
    {
     "name": "stdout",
     "output_type": "stream",
     "text": [
      "Average F Score:  0.9375561013929103\n",
      "Average Precision:  0.9416491783157748\n",
      "Average Recall:  0.949174380361442\n"
     ]
    },
    {
     "name": "stderr",
     "output_type": "stream",
     "text": [
      "/home/jyychang/DisasterResponsePipeline/pipeline_env/lib/python3.7/site-packages/sklearn/metrics/_classification.py:1221: UndefinedMetricWarning: Precision and F-score are ill-defined and being set to 0.0 in labels with no predicted samples. Use `zero_division` parameter to control this behavior.\n",
      "  _warn_prf(average, modifier, msg_start, len(result))\n"
     ]
    }
   ],
   "source": [
    "y_pred_rfc=pipeline_rfc.predict(X_test)\n",
    "score_df_rfc = score_report(y_test, y_pred_rfc)"
   ]
  },
  {
   "cell_type": "code",
   "execution_count": 46,
   "metadata": {},
   "outputs": [
    {
     "data": {
      "text/plain": [
       "{'memory': None,\n",
       " 'steps': [('vect',\n",
       "   TfidfVectorizer(tokenizer=<function tokenize at 0x7f862a95e5f0>)),\n",
       "  ('clf', MultiOutputClassifier(estimator=RandomForestClassifier()))],\n",
       " 'verbose': False,\n",
       " 'vect': TfidfVectorizer(tokenizer=<function tokenize at 0x7f862a95e5f0>),\n",
       " 'clf': MultiOutputClassifier(estimator=RandomForestClassifier()),\n",
       " 'vect__analyzer': 'word',\n",
       " 'vect__binary': False,\n",
       " 'vect__decode_error': 'strict',\n",
       " 'vect__dtype': numpy.float64,\n",
       " 'vect__encoding': 'utf-8',\n",
       " 'vect__input': 'content',\n",
       " 'vect__lowercase': True,\n",
       " 'vect__max_df': 1.0,\n",
       " 'vect__max_features': None,\n",
       " 'vect__min_df': 1,\n",
       " 'vect__ngram_range': (1, 1),\n",
       " 'vect__norm': 'l2',\n",
       " 'vect__preprocessor': None,\n",
       " 'vect__smooth_idf': True,\n",
       " 'vect__stop_words': None,\n",
       " 'vect__strip_accents': None,\n",
       " 'vect__sublinear_tf': False,\n",
       " 'vect__token_pattern': '(?u)\\\\b\\\\w\\\\w+\\\\b',\n",
       " 'vect__tokenizer': <function __main__.tokenize(text)>,\n",
       " 'vect__use_idf': True,\n",
       " 'vect__vocabulary': None,\n",
       " 'clf__estimator__bootstrap': True,\n",
       " 'clf__estimator__ccp_alpha': 0.0,\n",
       " 'clf__estimator__class_weight': None,\n",
       " 'clf__estimator__criterion': 'gini',\n",
       " 'clf__estimator__max_depth': None,\n",
       " 'clf__estimator__max_features': 'auto',\n",
       " 'clf__estimator__max_leaf_nodes': None,\n",
       " 'clf__estimator__max_samples': None,\n",
       " 'clf__estimator__min_impurity_decrease': 0.0,\n",
       " 'clf__estimator__min_impurity_split': None,\n",
       " 'clf__estimator__min_samples_leaf': 1,\n",
       " 'clf__estimator__min_samples_split': 2,\n",
       " 'clf__estimator__min_weight_fraction_leaf': 0.0,\n",
       " 'clf__estimator__n_estimators': 100,\n",
       " 'clf__estimator__n_jobs': None,\n",
       " 'clf__estimator__oob_score': False,\n",
       " 'clf__estimator__random_state': None,\n",
       " 'clf__estimator__verbose': 0,\n",
       " 'clf__estimator__warm_start': False,\n",
       " 'clf__estimator': RandomForestClassifier(),\n",
       " 'clf__n_jobs': None}"
      ]
     },
     "execution_count": 46,
     "metadata": {},
     "output_type": "execute_result"
    }
   ],
   "source": [
    "pipeline_rfc.get_params()"
   ]
  },
  {
   "cell_type": "code",
   "execution_count": 44,
   "metadata": {},
   "outputs": [
    {
     "data": {
      "text/html": [
       "<div>\n",
       "<style scoped>\n",
       "    .dataframe tbody tr th:only-of-type {\n",
       "        vertical-align: middle;\n",
       "    }\n",
       "\n",
       "    .dataframe tbody tr th {\n",
       "        vertical-align: top;\n",
       "    }\n",
       "\n",
       "    .dataframe thead th {\n",
       "        text-align: right;\n",
       "    }\n",
       "</style>\n",
       "<table border=\"1\" class=\"dataframe\">\n",
       "  <thead>\n",
       "    <tr style=\"text-align: right;\">\n",
       "      <th></th>\n",
       "      <th>Label</th>\n",
       "      <th>Precision</th>\n",
       "      <th>Recall</th>\n",
       "      <th>Fscore</th>\n",
       "    </tr>\n",
       "  </thead>\n",
       "  <tbody>\n",
       "    <tr>\n",
       "      <th>0</th>\n",
       "      <td>related</td>\n",
       "      <td>0.80848</td>\n",
       "      <td>0.818126</td>\n",
       "      <td>0.798489</td>\n",
       "    </tr>\n",
       "    <tr>\n",
       "      <th>1</th>\n",
       "      <td>request</td>\n",
       "      <td>0.894034</td>\n",
       "      <td>0.898383</td>\n",
       "      <td>0.887578</td>\n",
       "    </tr>\n",
       "    <tr>\n",
       "      <th>2</th>\n",
       "      <td>offer</td>\n",
       "      <td>0.990563</td>\n",
       "      <td>0.99527</td>\n",
       "      <td>0.992911</td>\n",
       "    </tr>\n",
       "    <tr>\n",
       "      <th>3</th>\n",
       "      <td>aid_related</td>\n",
       "      <td>0.78225</td>\n",
       "      <td>0.783338</td>\n",
       "      <td>0.782534</td>\n",
       "    </tr>\n",
       "    <tr>\n",
       "      <th>4</th>\n",
       "      <td>medical_help</td>\n",
       "      <td>0.910786</td>\n",
       "      <td>0.925236</td>\n",
       "      <td>0.898476</td>\n",
       "    </tr>\n",
       "    <tr>\n",
       "      <th>5</th>\n",
       "      <td>medical_products</td>\n",
       "      <td>0.947994</td>\n",
       "      <td>0.956363</td>\n",
       "      <td>0.94045</td>\n",
       "    </tr>\n",
       "    <tr>\n",
       "      <th>6</th>\n",
       "      <td>search_and_rescue</td>\n",
       "      <td>0.968193</td>\n",
       "      <td>0.974519</td>\n",
       "      <td>0.963843</td>\n",
       "    </tr>\n",
       "    <tr>\n",
       "      <th>7</th>\n",
       "      <td>security</td>\n",
       "      <td>0.968215</td>\n",
       "      <td>0.983979</td>\n",
       "      <td>0.976034</td>\n",
       "    </tr>\n",
       "    <tr>\n",
       "      <th>8</th>\n",
       "      <td>military</td>\n",
       "      <td>0.963579</td>\n",
       "      <td>0.972383</td>\n",
       "      <td>0.962118</td>\n",
       "    </tr>\n",
       "    <tr>\n",
       "      <th>9</th>\n",
       "      <td>child_alone</td>\n",
       "      <td>1</td>\n",
       "      <td>1</td>\n",
       "      <td>1</td>\n",
       "    </tr>\n",
       "    <tr>\n",
       "      <th>10</th>\n",
       "      <td>water</td>\n",
       "      <td>0.956331</td>\n",
       "      <td>0.959414</td>\n",
       "      <td>0.951992</td>\n",
       "    </tr>\n",
       "    <tr>\n",
       "      <th>11</th>\n",
       "      <td>food</td>\n",
       "      <td>0.939406</td>\n",
       "      <td>0.943088</td>\n",
       "      <td>0.93843</td>\n",
       "    </tr>\n",
       "    <tr>\n",
       "      <th>12</th>\n",
       "      <td>shelter</td>\n",
       "      <td>0.933093</td>\n",
       "      <td>0.937443</td>\n",
       "      <td>0.926148</td>\n",
       "    </tr>\n",
       "    <tr>\n",
       "      <th>13</th>\n",
       "      <td>clothing</td>\n",
       "      <td>0.981867</td>\n",
       "      <td>0.985352</td>\n",
       "      <td>0.980517</td>\n",
       "    </tr>\n",
       "    <tr>\n",
       "      <th>14</th>\n",
       "      <td>money</td>\n",
       "      <td>0.96678</td>\n",
       "      <td>0.977418</td>\n",
       "      <td>0.966556</td>\n",
       "    </tr>\n",
       "    <tr>\n",
       "      <th>15</th>\n",
       "      <td>missing_people</td>\n",
       "      <td>0.988837</td>\n",
       "      <td>0.988709</td>\n",
       "      <td>0.983244</td>\n",
       "    </tr>\n",
       "    <tr>\n",
       "      <th>16</th>\n",
       "      <td>refugees</td>\n",
       "      <td>0.959532</td>\n",
       "      <td>0.967196</td>\n",
       "      <td>0.952622</td>\n",
       "    </tr>\n",
       "    <tr>\n",
       "      <th>17</th>\n",
       "      <td>death</td>\n",
       "      <td>0.953663</td>\n",
       "      <td>0.957888</td>\n",
       "      <td>0.942258</td>\n",
       "    </tr>\n",
       "    <tr>\n",
       "      <th>18</th>\n",
       "      <td>other_aid</td>\n",
       "      <td>0.847401</td>\n",
       "      <td>0.871987</td>\n",
       "      <td>0.817974</td>\n",
       "    </tr>\n",
       "    <tr>\n",
       "      <th>19</th>\n",
       "      <td>infrastructure_related</td>\n",
       "      <td>0.94109</td>\n",
       "      <td>0.937138</td>\n",
       "      <td>0.906878</td>\n",
       "    </tr>\n",
       "    <tr>\n",
       "      <th>20</th>\n",
       "      <td>transport</td>\n",
       "      <td>0.950374</td>\n",
       "      <td>0.958956</td>\n",
       "      <td>0.944637</td>\n",
       "    </tr>\n",
       "    <tr>\n",
       "      <th>21</th>\n",
       "      <td>buildings</td>\n",
       "      <td>0.944709</td>\n",
       "      <td>0.952395</td>\n",
       "      <td>0.935239</td>\n",
       "    </tr>\n",
       "    <tr>\n",
       "      <th>22</th>\n",
       "      <td>electricity</td>\n",
       "      <td>0.975667</td>\n",
       "      <td>0.980165</td>\n",
       "      <td>0.970928</td>\n",
       "    </tr>\n",
       "    <tr>\n",
       "      <th>23</th>\n",
       "      <td>tools</td>\n",
       "      <td>0.987831</td>\n",
       "      <td>0.993897</td>\n",
       "      <td>0.990855</td>\n",
       "    </tr>\n",
       "    <tr>\n",
       "      <th>24</th>\n",
       "      <td>hospitals</td>\n",
       "      <td>0.980565</td>\n",
       "      <td>0.990235</td>\n",
       "      <td>0.985376</td>\n",
       "    </tr>\n",
       "    <tr>\n",
       "      <th>25</th>\n",
       "      <td>shops</td>\n",
       "      <td>0.990563</td>\n",
       "      <td>0.99527</td>\n",
       "      <td>0.992911</td>\n",
       "    </tr>\n",
       "    <tr>\n",
       "      <th>26</th>\n",
       "      <td>aid_centers</td>\n",
       "      <td>0.977244</td>\n",
       "      <td>0.988557</td>\n",
       "      <td>0.982868</td>\n",
       "    </tr>\n",
       "    <tr>\n",
       "      <th>27</th>\n",
       "      <td>other_infrastructure</td>\n",
       "      <td>0.915207</td>\n",
       "      <td>0.956515</td>\n",
       "      <td>0.935405</td>\n",
       "    </tr>\n",
       "    <tr>\n",
       "      <th>28</th>\n",
       "      <td>weather_related</td>\n",
       "      <td>0.882463</td>\n",
       "      <td>0.884193</td>\n",
       "      <td>0.880419</td>\n",
       "    </tr>\n",
       "    <tr>\n",
       "      <th>29</th>\n",
       "      <td>floods</td>\n",
       "      <td>0.950311</td>\n",
       "      <td>0.952395</td>\n",
       "      <td>0.945691</td>\n",
       "    </tr>\n",
       "    <tr>\n",
       "      <th>30</th>\n",
       "      <td>storm</td>\n",
       "      <td>0.936362</td>\n",
       "      <td>0.941715</td>\n",
       "      <td>0.936692</td>\n",
       "    </tr>\n",
       "    <tr>\n",
       "      <th>31</th>\n",
       "      <td>fire</td>\n",
       "      <td>0.979659</td>\n",
       "      <td>0.989777</td>\n",
       "      <td>0.984692</td>\n",
       "    </tr>\n",
       "    <tr>\n",
       "      <th>32</th>\n",
       "      <td>earthquake</td>\n",
       "      <td>0.973587</td>\n",
       "      <td>0.974214</td>\n",
       "      <td>0.973781</td>\n",
       "    </tr>\n",
       "    <tr>\n",
       "      <th>33</th>\n",
       "      <td>cold</td>\n",
       "      <td>0.976868</td>\n",
       "      <td>0.98047</td>\n",
       "      <td>0.973894</td>\n",
       "    </tr>\n",
       "    <tr>\n",
       "      <th>34</th>\n",
       "      <td>other_weather</td>\n",
       "      <td>0.926994</td>\n",
       "      <td>0.943546</td>\n",
       "      <td>0.918155</td>\n",
       "    </tr>\n",
       "    <tr>\n",
       "      <th>35</th>\n",
       "      <td>direct_report</td>\n",
       "      <td>0.848875</td>\n",
       "      <td>0.854745</td>\n",
       "      <td>0.831422</td>\n",
       "    </tr>\n",
       "  </tbody>\n",
       "</table>\n",
       "</div>"
      ],
      "text/plain": [
       "                     Label Precision    Recall    Fscore\n",
       "0                  related   0.80848  0.818126  0.798489\n",
       "1                  request  0.894034  0.898383  0.887578\n",
       "2                    offer  0.990563   0.99527  0.992911\n",
       "3              aid_related   0.78225  0.783338  0.782534\n",
       "4             medical_help  0.910786  0.925236  0.898476\n",
       "5         medical_products  0.947994  0.956363   0.94045\n",
       "6        search_and_rescue  0.968193  0.974519  0.963843\n",
       "7                 security  0.968215  0.983979  0.976034\n",
       "8                 military  0.963579  0.972383  0.962118\n",
       "9              child_alone         1         1         1\n",
       "10                   water  0.956331  0.959414  0.951992\n",
       "11                    food  0.939406  0.943088   0.93843\n",
       "12                 shelter  0.933093  0.937443  0.926148\n",
       "13                clothing  0.981867  0.985352  0.980517\n",
       "14                   money   0.96678  0.977418  0.966556\n",
       "15          missing_people  0.988837  0.988709  0.983244\n",
       "16                refugees  0.959532  0.967196  0.952622\n",
       "17                   death  0.953663  0.957888  0.942258\n",
       "18               other_aid  0.847401  0.871987  0.817974\n",
       "19  infrastructure_related   0.94109  0.937138  0.906878\n",
       "20               transport  0.950374  0.958956  0.944637\n",
       "21               buildings  0.944709  0.952395  0.935239\n",
       "22             electricity  0.975667  0.980165  0.970928\n",
       "23                   tools  0.987831  0.993897  0.990855\n",
       "24               hospitals  0.980565  0.990235  0.985376\n",
       "25                   shops  0.990563   0.99527  0.992911\n",
       "26             aid_centers  0.977244  0.988557  0.982868\n",
       "27    other_infrastructure  0.915207  0.956515  0.935405\n",
       "28         weather_related  0.882463  0.884193  0.880419\n",
       "29                  floods  0.950311  0.952395  0.945691\n",
       "30                   storm  0.936362  0.941715  0.936692\n",
       "31                    fire  0.979659  0.989777  0.984692\n",
       "32              earthquake  0.973587  0.974214  0.973781\n",
       "33                    cold  0.976868   0.98047  0.973894\n",
       "34           other_weather  0.926994  0.943546  0.918155\n",
       "35           direct_report  0.848875  0.854745  0.831422"
      ]
     },
     "execution_count": 44,
     "metadata": {},
     "output_type": "execute_result"
    }
   ],
   "source": [
    "score_df_rfc"
   ]
  },
  {
   "cell_type": "markdown",
   "metadata": {},
   "source": [
    "### 6. Improve your model\n",
    "Use grid search to find better parameters. "
   ]
  },
  {
   "cell_type": "code",
   "execution_count": 51,
   "metadata": {},
   "outputs": [
    {
     "data": {
      "text/plain": [
       "GridSearchCV(estimator=Pipeline(steps=[('vect',\n",
       "                                        TfidfVectorizer(tokenizer=<function tokenize at 0x7f862a95e5f0>)),\n",
       "                                       ('clf',\n",
       "                                        MultiOutputClassifier(estimator=RandomForestClassifier()))]),\n",
       "             param_grid={'clf__estimator__max_features': ['auto', 'log2'],\n",
       "                         'clf__estimator__min_samples_leaf': [1, 10],\n",
       "                         'clf__estimator__min_samples_split': [2, 10]})"
      ]
     },
     "execution_count": 51,
     "metadata": {},
     "output_type": "execute_result"
    }
   ],
   "source": [
    "parameters_rfc = {'clf__estimator__min_samples_leaf': [1,10],\n",
    "    'clf__estimator__max_features': ['auto','log2'],\n",
    "              'clf__estimator__min_samples_split':[2, 10]}\n",
    "\n",
    "cv_rfc = GridSearchCV(pipeline_rfc, param_grid=parameters_rfc)\n",
    "cv_rfc.fit(X_train, y_train)"
   ]
  },
  {
   "cell_type": "markdown",
   "metadata": {},
   "source": [
    "### 7. Test your model\n",
    "Show the accuracy, precision, and recall of the tuned model.  \n",
    "\n",
    "Since this project focuses on code quality, process, and  pipelines, there is no minimum performance metric needed to pass. However, make sure to fine tune your models for accuracy, precision and recall to make your project stand out - especially for your portfolio!"
   ]
  },
  {
   "cell_type": "code",
   "execution_count": 53,
   "metadata": {},
   "outputs": [
    {
     "name": "stdout",
     "output_type": "stream",
     "text": [
      "Average F Score:  0.9375223994086507\n",
      "Average Precision:  0.9415919329414808\n",
      "Average Recall:  0.9491998101244365\n"
     ]
    },
    {
     "name": "stderr",
     "output_type": "stream",
     "text": [
      "/home/jyychang/DisasterResponsePipeline/pipeline_env/lib/python3.7/site-packages/sklearn/metrics/_classification.py:1221: UndefinedMetricWarning: Precision and F-score are ill-defined and being set to 0.0 in labels with no predicted samples. Use `zero_division` parameter to control this behavior.\n",
      "  _warn_prf(average, modifier, msg_start, len(result))\n"
     ]
    }
   ],
   "source": [
    "y_pred_cv_rfc = cv_rfc.predict(X_test)\n",
    "score_cv_rfc = score_report(y_test, y_pred_cv_rfc)"
   ]
  },
  {
   "cell_type": "code",
   "execution_count": 54,
   "metadata": {},
   "outputs": [
    {
     "data": {
      "text/plain": [
       "Pipeline(steps=[('vect',\n",
       "                 TfidfVectorizer(tokenizer=<function tokenize at 0x7f862a95e5f0>)),\n",
       "                ('clf',\n",
       "                 MultiOutputClassifier(estimator=RandomForestClassifier()))])"
      ]
     },
     "execution_count": 54,
     "metadata": {},
     "output_type": "execute_result"
    }
   ],
   "source": [
    "cv_rfc.best_estimator_"
   ]
  },
  {
   "cell_type": "markdown",
   "metadata": {},
   "source": [
    "### 8. Try improving your model further. Here are a few ideas:\n",
    "* try other machine learning algorithms\n",
    "* add other features besides the TF-IDF"
   ]
  },
  {
   "cell_type": "code",
   "execution_count": 17,
   "metadata": {},
   "outputs": [],
   "source": [
    "# Adaboost Classifier Pipeline\n",
    "pipeline_abc = Pipeline([\n",
    "    ('vect',TfidfVectorizer(tokenizer=tokenize)),\n",
    "    ('clf',  MultiOutputClassifier(AdaBoostClassifier()))\n",
    "    ])"
   ]
  },
  {
   "cell_type": "code",
   "execution_count": 18,
   "metadata": {
    "scrolled": true
   },
   "outputs": [
    {
     "data": {
      "text/plain": [
       "Pipeline(steps=[('vect',\n",
       "                 TfidfVectorizer(tokenizer=<function tokenize at 0x7ff7777ea290>)),\n",
       "                ('clf', MultiOutputClassifier(estimator=AdaBoostClassifier()))])"
      ]
     },
     "execution_count": 18,
     "metadata": {},
     "output_type": "execute_result"
    }
   ],
   "source": [
    "# Train the Adaboost Classifier \n",
    "pipeline_abc.fit(X_train, y_train)"
   ]
  },
  {
   "cell_type": "code",
   "execution_count": 19,
   "metadata": {},
   "outputs": [
    {
     "name": "stdout",
     "output_type": "stream",
     "text": [
      "Average F Score:  0.9384573643905784\n",
      "Average Precision:  0.9389071288091687\n",
      "Average Recall:  0.9466822635879701\n"
     ]
    }
   ],
   "source": [
    "# Test the pipeline\n",
    "y_pred_abc=pipeline_abc.predict(X_test)\n",
    "score_df_abc = score_report(y_test, y_pred_abc)"
   ]
  },
  {
   "cell_type": "code",
   "execution_count": 47,
   "metadata": {},
   "outputs": [
    {
     "data": {
      "text/plain": [
       "{'memory': None,\n",
       " 'steps': [('vect',\n",
       "   TfidfVectorizer(tokenizer=<function tokenize at 0x7f862a95e5f0>)),\n",
       "  ('clf', MultiOutputClassifier(estimator=AdaBoostClassifier()))],\n",
       " 'verbose': False,\n",
       " 'vect': TfidfVectorizer(tokenizer=<function tokenize at 0x7f862a95e5f0>),\n",
       " 'clf': MultiOutputClassifier(estimator=AdaBoostClassifier()),\n",
       " 'vect__analyzer': 'word',\n",
       " 'vect__binary': False,\n",
       " 'vect__decode_error': 'strict',\n",
       " 'vect__dtype': numpy.float64,\n",
       " 'vect__encoding': 'utf-8',\n",
       " 'vect__input': 'content',\n",
       " 'vect__lowercase': True,\n",
       " 'vect__max_df': 1.0,\n",
       " 'vect__max_features': None,\n",
       " 'vect__min_df': 1,\n",
       " 'vect__ngram_range': (1, 1),\n",
       " 'vect__norm': 'l2',\n",
       " 'vect__preprocessor': None,\n",
       " 'vect__smooth_idf': True,\n",
       " 'vect__stop_words': None,\n",
       " 'vect__strip_accents': None,\n",
       " 'vect__sublinear_tf': False,\n",
       " 'vect__token_pattern': '(?u)\\\\b\\\\w\\\\w+\\\\b',\n",
       " 'vect__tokenizer': <function __main__.tokenize(text)>,\n",
       " 'vect__use_idf': True,\n",
       " 'vect__vocabulary': None,\n",
       " 'clf__estimator__algorithm': 'SAMME.R',\n",
       " 'clf__estimator__base_estimator': None,\n",
       " 'clf__estimator__learning_rate': 1.0,\n",
       " 'clf__estimator__n_estimators': 50,\n",
       " 'clf__estimator__random_state': None,\n",
       " 'clf__estimator': AdaBoostClassifier(),\n",
       " 'clf__n_jobs': None}"
      ]
     },
     "execution_count": 47,
     "metadata": {},
     "output_type": "execute_result"
    }
   ],
   "source": [
    "pipeline_abc.get_params()"
   ]
  },
  {
   "cell_type": "code",
   "execution_count": 45,
   "metadata": {
    "scrolled": true
   },
   "outputs": [
    {
     "data": {
      "text/html": [
       "<div>\n",
       "<style scoped>\n",
       "    .dataframe tbody tr th:only-of-type {\n",
       "        vertical-align: middle;\n",
       "    }\n",
       "\n",
       "    .dataframe tbody tr th {\n",
       "        vertical-align: top;\n",
       "    }\n",
       "\n",
       "    .dataframe thead th {\n",
       "        text-align: right;\n",
       "    }\n",
       "</style>\n",
       "<table border=\"1\" class=\"dataframe\">\n",
       "  <thead>\n",
       "    <tr style=\"text-align: right;\">\n",
       "      <th></th>\n",
       "      <th>Label</th>\n",
       "      <th>Precision</th>\n",
       "      <th>Recall</th>\n",
       "      <th>Fscore</th>\n",
       "    </tr>\n",
       "  </thead>\n",
       "  <tbody>\n",
       "    <tr>\n",
       "      <th>0</th>\n",
       "      <td>related</td>\n",
       "      <td>0.743901</td>\n",
       "      <td>0.761215</td>\n",
       "      <td>0.683847</td>\n",
       "    </tr>\n",
       "    <tr>\n",
       "      <th>1</th>\n",
       "      <td>request</td>\n",
       "      <td>0.876994</td>\n",
       "      <td>0.885719</td>\n",
       "      <td>0.876071</td>\n",
       "    </tr>\n",
       "    <tr>\n",
       "      <th>2</th>\n",
       "      <td>offer</td>\n",
       "      <td>0.990557</td>\n",
       "      <td>0.994202</td>\n",
       "      <td>0.992376</td>\n",
       "    </tr>\n",
       "    <tr>\n",
       "      <th>3</th>\n",
       "      <td>aid_related</td>\n",
       "      <td>0.758162</td>\n",
       "      <td>0.759384</td>\n",
       "      <td>0.755068</td>\n",
       "    </tr>\n",
       "    <tr>\n",
       "      <th>4</th>\n",
       "      <td>medical_help</td>\n",
       "      <td>0.907974</td>\n",
       "      <td>0.923558</td>\n",
       "      <td>0.911997</td>\n",
       "    </tr>\n",
       "    <tr>\n",
       "      <th>5</th>\n",
       "      <td>medical_products</td>\n",
       "      <td>0.957861</td>\n",
       "      <td>0.963534</td>\n",
       "      <td>0.958325</td>\n",
       "    </tr>\n",
       "    <tr>\n",
       "      <th>6</th>\n",
       "      <td>search_and_rescue</td>\n",
       "      <td>0.966</td>\n",
       "      <td>0.973756</td>\n",
       "      <td>0.967912</td>\n",
       "    </tr>\n",
       "    <tr>\n",
       "      <th>7</th>\n",
       "      <td>security</td>\n",
       "      <td>0.973067</td>\n",
       "      <td>0.982148</td>\n",
       "      <td>0.976599</td>\n",
       "    </tr>\n",
       "    <tr>\n",
       "      <th>8</th>\n",
       "      <td>military</td>\n",
       "      <td>0.971388</td>\n",
       "      <td>0.974977</td>\n",
       "      <td>0.972645</td>\n",
       "    </tr>\n",
       "    <tr>\n",
       "      <th>9</th>\n",
       "      <td>child_alone</td>\n",
       "      <td>1</td>\n",
       "      <td>1</td>\n",
       "      <td>1</td>\n",
       "    </tr>\n",
       "    <tr>\n",
       "      <th>10</th>\n",
       "      <td>water</td>\n",
       "      <td>0.964256</td>\n",
       "      <td>0.965822</td>\n",
       "      <td>0.964881</td>\n",
       "    </tr>\n",
       "    <tr>\n",
       "      <th>11</th>\n",
       "      <td>food</td>\n",
       "      <td>0.942132</td>\n",
       "      <td>0.944767</td>\n",
       "      <td>0.942974</td>\n",
       "    </tr>\n",
       "    <tr>\n",
       "      <th>12</th>\n",
       "      <td>shelter</td>\n",
       "      <td>0.937581</td>\n",
       "      <td>0.94263</td>\n",
       "      <td>0.938393</td>\n",
       "    </tr>\n",
       "    <tr>\n",
       "      <th>13</th>\n",
       "      <td>clothing</td>\n",
       "      <td>0.985283</td>\n",
       "      <td>0.987336</td>\n",
       "      <td>0.985727</td>\n",
       "    </tr>\n",
       "    <tr>\n",
       "      <th>14</th>\n",
       "      <td>money</td>\n",
       "      <td>0.974212</td>\n",
       "      <td>0.978334</td>\n",
       "      <td>0.97563</td>\n",
       "    </tr>\n",
       "    <tr>\n",
       "      <th>15</th>\n",
       "      <td>missing_people</td>\n",
       "      <td>0.984531</td>\n",
       "      <td>0.988709</td>\n",
       "      <td>0.984972</td>\n",
       "    </tr>\n",
       "    <tr>\n",
       "      <th>16</th>\n",
       "      <td>refugees</td>\n",
       "      <td>0.959586</td>\n",
       "      <td>0.967348</td>\n",
       "      <td>0.961785</td>\n",
       "    </tr>\n",
       "    <tr>\n",
       "      <th>17</th>\n",
       "      <td>death</td>\n",
       "      <td>0.960351</td>\n",
       "      <td>0.965365</td>\n",
       "      <td>0.960444</td>\n",
       "    </tr>\n",
       "    <tr>\n",
       "      <th>18</th>\n",
       "      <td>other_aid</td>\n",
       "      <td>0.829463</td>\n",
       "      <td>0.86802</td>\n",
       "      <td>0.833839</td>\n",
       "    </tr>\n",
       "    <tr>\n",
       "      <th>19</th>\n",
       "      <td>infrastructure_related</td>\n",
       "      <td>0.905957</td>\n",
       "      <td>0.933171</td>\n",
       "      <td>0.913511</td>\n",
       "    </tr>\n",
       "    <tr>\n",
       "      <th>20</th>\n",
       "      <td>transport</td>\n",
       "      <td>0.947844</td>\n",
       "      <td>0.958651</td>\n",
       "      <td>0.948071</td>\n",
       "    </tr>\n",
       "    <tr>\n",
       "      <th>21</th>\n",
       "      <td>buildings</td>\n",
       "      <td>0.947813</td>\n",
       "      <td>0.955294</td>\n",
       "      <td>0.949698</td>\n",
       "    </tr>\n",
       "    <tr>\n",
       "      <th>22</th>\n",
       "      <td>electricity</td>\n",
       "      <td>0.976559</td>\n",
       "      <td>0.980623</td>\n",
       "      <td>0.977878</td>\n",
       "    </tr>\n",
       "    <tr>\n",
       "      <th>23</th>\n",
       "      <td>tools</td>\n",
       "      <td>0.988994</td>\n",
       "      <td>0.993287</td>\n",
       "      <td>0.990814</td>\n",
       "    </tr>\n",
       "    <tr>\n",
       "      <th>24</th>\n",
       "      <td>hospitals</td>\n",
       "      <td>0.982764</td>\n",
       "      <td>0.987794</td>\n",
       "      <td>0.985038</td>\n",
       "    </tr>\n",
       "    <tr>\n",
       "      <th>25</th>\n",
       "      <td>shops</td>\n",
       "      <td>0.992043</td>\n",
       "      <td>0.99466</td>\n",
       "      <td>0.99309</td>\n",
       "    </tr>\n",
       "    <tr>\n",
       "      <th>26</th>\n",
       "      <td>aid_centers</td>\n",
       "      <td>0.978718</td>\n",
       "      <td>0.986268</td>\n",
       "      <td>0.982207</td>\n",
       "    </tr>\n",
       "    <tr>\n",
       "      <th>27</th>\n",
       "      <td>other_infrastructure</td>\n",
       "      <td>0.931247</td>\n",
       "      <td>0.951785</td>\n",
       "      <td>0.93866</td>\n",
       "    </tr>\n",
       "    <tr>\n",
       "      <th>28</th>\n",
       "      <td>weather_related</td>\n",
       "      <td>0.875065</td>\n",
       "      <td>0.876564</td>\n",
       "      <td>0.871544</td>\n",
       "    </tr>\n",
       "    <tr>\n",
       "      <th>29</th>\n",
       "      <td>floods</td>\n",
       "      <td>0.95577</td>\n",
       "      <td>0.958346</td>\n",
       "      <td>0.95473</td>\n",
       "    </tr>\n",
       "    <tr>\n",
       "      <th>30</th>\n",
       "      <td>storm</td>\n",
       "      <td>0.935752</td>\n",
       "      <td>0.940952</td>\n",
       "      <td>0.936703</td>\n",
       "    </tr>\n",
       "    <tr>\n",
       "      <th>31</th>\n",
       "      <td>fire</td>\n",
       "      <td>0.987635</td>\n",
       "      <td>0.990388</td>\n",
       "      <td>0.987974</td>\n",
       "    </tr>\n",
       "    <tr>\n",
       "      <th>32</th>\n",
       "      <td>earthquake</td>\n",
       "      <td>0.973235</td>\n",
       "      <td>0.973604</td>\n",
       "      <td>0.973392</td>\n",
       "    </tr>\n",
       "    <tr>\n",
       "      <th>33</th>\n",
       "      <td>cold</td>\n",
       "      <td>0.979964</td>\n",
       "      <td>0.982911</td>\n",
       "      <td>0.979869</td>\n",
       "    </tr>\n",
       "    <tr>\n",
       "      <th>34</th>\n",
       "      <td>other_weather</td>\n",
       "      <td>0.924827</td>\n",
       "      <td>0.94263</td>\n",
       "      <td>0.928459</td>\n",
       "    </tr>\n",
       "    <tr>\n",
       "      <th>35</th>\n",
       "      <td>direct_report</td>\n",
       "      <td>0.833615</td>\n",
       "      <td>0.847269</td>\n",
       "      <td>0.829701</td>\n",
       "    </tr>\n",
       "  </tbody>\n",
       "</table>\n",
       "</div>"
      ],
      "text/plain": [
       "                     Label Precision    Recall    Fscore\n",
       "0                  related  0.743901  0.761215  0.683847\n",
       "1                  request  0.876994  0.885719  0.876071\n",
       "2                    offer  0.990557  0.994202  0.992376\n",
       "3              aid_related  0.758162  0.759384  0.755068\n",
       "4             medical_help  0.907974  0.923558  0.911997\n",
       "5         medical_products  0.957861  0.963534  0.958325\n",
       "6        search_and_rescue     0.966  0.973756  0.967912\n",
       "7                 security  0.973067  0.982148  0.976599\n",
       "8                 military  0.971388  0.974977  0.972645\n",
       "9              child_alone         1         1         1\n",
       "10                   water  0.964256  0.965822  0.964881\n",
       "11                    food  0.942132  0.944767  0.942974\n",
       "12                 shelter  0.937581   0.94263  0.938393\n",
       "13                clothing  0.985283  0.987336  0.985727\n",
       "14                   money  0.974212  0.978334   0.97563\n",
       "15          missing_people  0.984531  0.988709  0.984972\n",
       "16                refugees  0.959586  0.967348  0.961785\n",
       "17                   death  0.960351  0.965365  0.960444\n",
       "18               other_aid  0.829463   0.86802  0.833839\n",
       "19  infrastructure_related  0.905957  0.933171  0.913511\n",
       "20               transport  0.947844  0.958651  0.948071\n",
       "21               buildings  0.947813  0.955294  0.949698\n",
       "22             electricity  0.976559  0.980623  0.977878\n",
       "23                   tools  0.988994  0.993287  0.990814\n",
       "24               hospitals  0.982764  0.987794  0.985038\n",
       "25                   shops  0.992043   0.99466   0.99309\n",
       "26             aid_centers  0.978718  0.986268  0.982207\n",
       "27    other_infrastructure  0.931247  0.951785   0.93866\n",
       "28         weather_related  0.875065  0.876564  0.871544\n",
       "29                  floods   0.95577  0.958346   0.95473\n",
       "30                   storm  0.935752  0.940952  0.936703\n",
       "31                    fire  0.987635  0.990388  0.987974\n",
       "32              earthquake  0.973235  0.973604  0.973392\n",
       "33                    cold  0.979964  0.982911  0.979869\n",
       "34           other_weather  0.924827   0.94263  0.928459\n",
       "35           direct_report  0.833615  0.847269  0.829701"
      ]
     },
     "execution_count": 45,
     "metadata": {},
     "output_type": "execute_result"
    }
   ],
   "source": [
    "score_df_abc"
   ]
  },
  {
   "cell_type": "code",
   "execution_count": 20,
   "metadata": {},
   "outputs": [
    {
     "data": {
      "text/plain": [
       "GridSearchCV(estimator=Pipeline(steps=[('vect',\n",
       "                                        TfidfVectorizer(tokenizer=<function tokenize at 0x7ff7777ea290>)),\n",
       "                                       ('clf',\n",
       "                                        MultiOutputClassifier(estimator=AdaBoostClassifier()))]),\n",
       "             param_grid={'clf__estimator__learning_rate': [0.5, 1],\n",
       "                         'clf__estimator__n_estimators': [40, 50, 60],\n",
       "                         'vect__use_idf': (True, False)})"
      ]
     },
     "execution_count": 20,
     "metadata": {},
     "output_type": "execute_result"
    }
   ],
   "source": [
    "# Improve the pipeline\n",
    "parameters_abc = {'vect__use_idf': (True, False),\n",
    "        'clf__estimator__n_estimators': [40, 50, 60],\n",
    "        'clf__estimator__learning_rate': [0.5, 1] }\n",
    "cv_abc = GridSearchCV(pipeline_abc, param_grid = parameters_abc)\n",
    "cv_abc.fit(X_train, y_train)"
   ]
  },
  {
   "cell_type": "code",
   "execution_count": 21,
   "metadata": {},
   "outputs": [
    {
     "name": "stdout",
     "output_type": "stream",
     "text": [
      "Average F Score:  0.9362077857978802\n",
      "Average Precision:  0.940036978988076\n",
      "Average Recall:  0.9472968161936731\n"
     ]
    }
   ],
   "source": [
    "# Test Improvements\n",
    "y_pred_cv_abc = cv_abc.predict(X_test)\n",
    "score_cv_abc = score_report(y_test, y_pred_cv_abc)"
   ]
  },
  {
   "cell_type": "code",
   "execution_count": 22,
   "metadata": {},
   "outputs": [
    {
     "data": {
      "text/plain": [
       "Pipeline(steps=[('vect',\n",
       "                 TfidfVectorizer(tokenizer=<function tokenize at 0x7ff7777ea290>,\n",
       "                                 use_idf=False)),\n",
       "                ('clf',\n",
       "                 MultiOutputClassifier(estimator=AdaBoostClassifier(learning_rate=0.5,\n",
       "                                                                    n_estimators=60)))])"
      ]
     },
     "execution_count": 22,
     "metadata": {},
     "output_type": "execute_result"
    }
   ],
   "source": [
    "cv_abc.best_estimator_"
   ]
  },
  {
   "cell_type": "markdown",
   "metadata": {},
   "source": [
    "### 9. Export your model as a pickle file"
   ]
  },
  {
   "cell_type": "code",
   "execution_count": 59,
   "metadata": {},
   "outputs": [],
   "source": [
    "with open('models/abc_model.pkl', 'wb') as file:\n",
    "    pickle.dump(pipeline_abc, file)"
   ]
  },
  {
   "cell_type": "markdown",
   "metadata": {},
   "source": [
    "### 10. Use this notebook to complete `train.py`\n",
    "Use the template file attached in the Resources folder to write a script that runs the steps above to create a database and export a model based on a new dataset specified by the user."
   ]
  },
  {
   "cell_type": "code",
   "execution_count": null,
   "metadata": {},
   "outputs": [],
   "source": []
  }
 ],
 "metadata": {
  "kernelspec": {
   "display_name": "Python 3",
   "language": "python",
   "name": "python3"
  },
  "language_info": {
   "codemirror_mode": {
    "name": "ipython",
    "version": 3
   },
   "file_extension": ".py",
   "mimetype": "text/x-python",
   "name": "python",
   "nbconvert_exporter": "python",
   "pygments_lexer": "ipython3",
   "version": "3.7.4"
  },
  "toc": {
   "base_numbering": 1,
   "nav_menu": {},
   "number_sections": true,
   "sideBar": true,
   "skip_h1_title": false,
   "title_cell": "Table of Contents",
   "title_sidebar": "Contents",
   "toc_cell": false,
   "toc_position": {},
   "toc_section_display": true,
   "toc_window_display": false
  },
  "varInspector": {
   "cols": {
    "lenName": 16,
    "lenType": 16,
    "lenVar": 40
   },
   "kernels_config": {
    "python": {
     "delete_cmd_postfix": "",
     "delete_cmd_prefix": "del ",
     "library": "var_list.py",
     "varRefreshCmd": "print(var_dic_list())"
    },
    "r": {
     "delete_cmd_postfix": ") ",
     "delete_cmd_prefix": "rm(",
     "library": "var_list.r",
     "varRefreshCmd": "cat(var_dic_list()) "
    }
   },
   "types_to_exclude": [
    "module",
    "function",
    "builtin_function_or_method",
    "instance",
    "_Feature"
   ],
   "window_display": false
  }
 },
 "nbformat": 4,
 "nbformat_minor": 2
}
